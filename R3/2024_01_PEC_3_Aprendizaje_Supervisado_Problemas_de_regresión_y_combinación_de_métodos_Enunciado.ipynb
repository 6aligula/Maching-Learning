{
  "nbformat": 4,
  "nbformat_minor": 0,
  "metadata": {
    "colab": {
      "provenance": []
    },
    "kernelspec": {
      "name": "python3",
      "display_name": "Python 3"
    }
  },
  "cells": [
    {
      "cell_type": "markdown",
      "metadata": {
        "id": "CjhA7ENLbOx_"
      },
      "source": [
        "<div style=\"width: 100%; clear: both;\">\n",
        "<div style=\"float: left; width: 50%;\">\n",
        "<img src=\"http://www.uoc.edu/portal/_resources/common/imatges/marca_UOC/UOC_Masterbrand.jpg\", align=\"left\">\n",
        "</div>\n",
        "<div style=\"float: right; width: 50%;\">\n",
        "<p style=\"margin: 0; padding-top: 22px; text-align:right;\">22.418/22.518 · Aprenentatge automàtic</p>\n",
        "<p style=\"margin: 0; text-align:right;\">Grau en Ciència de Dades Aplicada</p>\n",
        "<p style=\"margin: 0; text-align:right; padding-button: 100px;\">Estudis de Informàtica, Multimèdia i Telecomunicació</p>\n",
        "</div>\n",
        "</div>\n",
        "<div style=\"width:100%;\">&nbsp;</div>"
      ]
    },
    {
      "cell_type": "markdown",
      "metadata": {
        "id": "WmmJnAr6MXPT"
      },
      "source": [
        "# **PAC 3. Aprendizaje supervisado: Problemas de regresión y combinación de métodos**\n",
        "\n",
        "## Introducción\n",
        "\n",
        "En este ejercicio práctico estudiaremos cómo utilizar las técnicas previamente estudiadas en teoría para la resolución de poblemas prácticos.\n",
        "\n",
        "Las competencias asociadas a este módulo son las siguientes:\n",
        "\n",
        "- Que los estudiantes tengan la capacidad de reunir e interpretar datos relevantes (normalmente dentro de su área de estudio) para emitir juicios que incluyan una reflexión sobre temas relevantes de índole social, científica o ética.\n",
        "- Identificar y generar nuevas ideas innovadoras que aporten valor económico y/o social.\n",
        "- Diseñar un marco experimental teniendo en cuenta los métodos más adecuados para la captura, el procesamiento, el almacenamiento, el análisis y la visualización de datos.\n",
        "- Utilizar de forma combinada los fundamentos matemáticos, estadísticos y de programación para desarrollar soluciones a problemas en el ámbito de la ciencia de los datos.\n",
        "\n",
        "Y los objetivos que perseguimos con este notebook de prácticas son:\n",
        "\n",
        "- Interpretar y analizar los resultados de algoritmos de aprendizaje supervisado para problemas de clasificación teniendo en cuenta temas relevantes de índole social, científica o ética.\n",
        "- Proponer nuevos problemas donde un modelado de los datos usando algoritmos de aprendizaje supervisado puedan aportar valorar económico y/o social.\n",
        "- Conocer las metodologías y etapas básicas de un proyecto de minería de datos o, en general, de un proyecto de ciencia de datos.\n",
        "- Realizar un análisis de los resultados obtenidos con los principales métodos de aprendizaje automático en problemas de clasificación usando las métricas de evaluación comunes para estos problemas.\n",
        "- Conocer los principales métodos de aprendizaje automático en problemas supervisados de clasificación, y saber aplicar el tipo de algoritmo adecuado en cada situación, así como sus puntos fuertes y debilidades.\n",
        "\n",
        "## Descripción de la PAC\n",
        "\n",
        "Para ello, en este notebooks tendréis que realizar diferentes ejercicios. Este conjunto de ejercicios está diseñado para guiarte a través de un flujo completo de aprendizaje supervisado, específicamente en tareas de regresión, utilizando diferentes modelos y técnicas de ensamble. A continuación, un resumen de los pasos clave:\n",
        "\n",
        "  - Selección del conjunto de datos y objetivo: Se elige un conjunto de datos adecuado y se define el objetivo del análisis, como la predicción de una variable.\n",
        "  - Carga y preprocesamiento de datos: Se limpia y prepara el conjunto de datos, gestionando valores faltantes y normalizando o estandarizando la información.\n",
        "  - Selección e implementación de modelos: Se implementan y evalúan al menos tres modelos de regresión, como regresión lineal, árboles de decisión o kNN, comparando su rendimiento.\n",
        "  - Métodos de ensamble: Se aplica Gradient Boosting para mejorar los resultados obtenidos con los modelos individuales.\n",
        "  - Ensamble personalizado: Se construye un método de ensamble propio y se compara con los modelos anteriores.\n",
        "  - Generación de predicciones y comparación: Se generan predicciones y se comparan visualmente los resultados de los diferentes modelos para evaluar su precisión.\n",
        "\n"
      ]
    },
    {
      "cell_type": "markdown",
      "metadata": {
        "id": "lh4OCuxUPp92"
      },
      "source": [
        "## **Ejercicio 1 (1 punto)**\n",
        "\n",
        "En esta PEC trabajaremos con el dataset Fish Market https://www.kaggle.com/datasets/vipullrathod/fish-market?resource=download\n",
        "\n",
        "Para el problema de regresión de este notebook usaremos la variable \"Weight\" como variable a predecir.\n",
        "\n",
        "Por favor, especifica el conjunto de datos y describe los objetivos que tendremos en esta PEC:\n",
        "\n",
        "a) ¿Cuál es el objetivo del análisis?\n",
        "\n",
        "b) ¿Qué esperas predecir?\n",
        "\n",
        "c) Describe brevemente el conjunto de datos."
      ]
    },
    {
      "cell_type": "markdown",
      "source": [
        "### ## pon tu respuesta entre aquí\n",
        "\n",
        "\n",
        "\n",
        "### ## y aquí\n"
      ],
      "metadata": {
        "id": "NvgC_LKz5ACu"
      }
    },
    {
      "cell_type": "markdown",
      "metadata": {
        "id": "uwJfVei1UMij"
      },
      "source": [
        "## **Ejercicio 2 (2 puntos)**\n",
        "\n",
        "Una vez descrito el dataset, deberás descargarlo a Colab y cargarlo. Para hacer esto puedes basarte en los notebooks de la asignatura, los cuales tienes disponibles en el repositorio oficial de la asignatura: https://gitlab.uoclabs.uoc.es/aprenentatge_automatic/aprenentatge_automatic.\n",
        "\n",
        "\n",
        "Pasos a realizar:\n",
        "\n",
        " - Sube el dataset al entorno de colab (archivo Fish.csv)\n",
        " - Carga el conjunto de datos en un DataFrame de Pandas.\n",
        " - Verifica si hay valores faltantes y manéjalos según sea necesario.\n",
        " - Normaliza y estandariza los datos.\n",
        " - Muestra un resumen de los datos limpios."
      ]
    },
    {
      "cell_type": "code",
      "source": [
        "## pon tu respuesta aquí\n"
      ],
      "metadata": {
        "id": "eRui374S6MTc"
      },
      "execution_count": null,
      "outputs": []
    },
    {
      "cell_type": "markdown",
      "metadata": {
        "id": "QOrtlZ0VVEs6"
      },
      "source": [
        "## **Ejercicio 3 (2 puntos)**\n",
        "\n",
        "Ahora que ya tienes el dataset cargado y listo para ser utilizado, escoge al menos 3 algoritmos de los vistos en la teoría/notebooks de la asignatura y aplícalos para poder hacer predicciones. Una vez obtenidos los resultados, compáralos y explica tus conclusiones teniendo en cuenta lo que pensabas conseguir al elegir dicho dataset.\n",
        "\n",
        "Elige al menos tres algoritmos de regresión para predecir tu variable objetivo.\n",
        "\n",
        "Instrucciones:\n",
        "\n",
        " - Implementa los algoritmos y evalúa su desempeño usando validación cruzada.\n",
        " - Algoritmos sugeridos: Regresión Lineal, Árbol de Decisión y k-Nearest Neighbors (kNN) Regressor.\n",
        " - Reporta las métricas de rendimiento de cada modelo.\n",
        "\n",
        "Normalmente, es buena costumbre aplicar un *k-fold cross-validation* para evaluar un algoritmo, para de esta forma eliminar al máximo posible el sesgo introducido al hacer la separación de datos en *train* y *test*. Para ello, puedes utilizar la siguiente instrucción que, además, realiza el *k-fold* `n_repeats` veces con distintas semillas, para mitigar todavía más dicho sesgo:\n",
        "\n",
        "```\n",
        "cv = KFold(n_splits=10, n_repeats=3, random_state=1)\n",
        "scores = cross_val_score(model, X, y, scoring='neg_mean_squared_error', cv=cv, n_jobs=-1, error_score='raise')\n",
        "```\n",
        "\n",
        "Este código realizará el *k-fold cross-validation* con `k=10`, y lo repetirá 3 veces, una con `random_state=1`, la siguiente con `random_state=2` y la última con `random_state=3`. Para ello, utilizará la medida de error cuadrático medio, pero podéis elegir la que queráis (observad el apartado \"Regression\" del siguiente enlace https://scikit-learn.org/stable/modules/model_evaluation.html#scoring-parameter).\n",
        "\n",
        "\n"
      ]
    },
    {
      "cell_type": "markdown",
      "metadata": {
        "id": "SLJOtTbhV18Z"
      },
      "source": [
        "Vamos a utilizar los algoritmos de Linear Regression, Tree Regresion y kNN Regression."
      ]
    },
    {
      "cell_type": "code",
      "metadata": {
        "id": "mDVii6bfWPVP"
      },
      "source": [
        "# pon tu respuesta aquí\n"
      ],
      "execution_count": null,
      "outputs": []
    },
    {
      "cell_type": "markdown",
      "source": [
        "Analiza los resultados obtenidos"
      ],
      "metadata": {
        "id": "SNov8bA1BCV9"
      }
    },
    {
      "cell_type": "markdown",
      "source": [
        "### ## Pon tu respuesta entre aquí\n",
        "\n",
        "\n",
        "### ## y aquí"
      ],
      "metadata": {
        "id": "lZfe7O65BFQw"
      }
    },
    {
      "cell_type": "markdown",
      "metadata": {
        "id": "yLruuwetMIRv"
      },
      "source": [
        "## **Ejercicio 4 (1 punto)**\n",
        "\n",
        "Hasta ahora has empleado un único modelo para tratar de ajustarlo a tus datos, por lo que es muy posible que esté cometiendo overfitting (ajustarse tanto a los datos de entrenamiento que luego fallará cuando le llegue un dato nuevo).\n",
        "\n",
        "Lo que proponemos a continuación es que hagáis uso de métodos de combinación de modelos para solventar este problema y tratar de mejorar los resultados. Como hemos descrito anteriormente, para ello podéis utilizar los siguientes métodos vistos en los notebooks de la asignatura:\n",
        "- Model ensemble\n",
        "- Bagging\n",
        "- Boosting\n",
        "\n",
        "Recuerda aplicar un *k-fold cross-validation* igual que hiciste en el Ejercicio 3 para obtener unas métricas lo más fiables posible.\n",
        "\n",
        "Pasos:\n",
        " - Aplica un método de los propuestos usando la librería sklearn\n",
        " - Evalua y compara los resultados respecto a los métodos del ejercicio 3\n"
      ]
    },
    {
      "cell_type": "code",
      "source": [
        "# pon tu respuesta aquí\n",
        "\n"
      ],
      "metadata": {
        "id": "EUKX1i9Z70cl"
      },
      "execution_count": null,
      "outputs": []
    },
    {
      "cell_type": "markdown",
      "source": [
        "### ## Pon tu respuesta entre aquí\n",
        "\n",
        "\n",
        "### ## y aquí"
      ],
      "metadata": {
        "id": "T36H3axh7aWc"
      }
    },
    {
      "cell_type": "markdown",
      "metadata": {
        "id": "vKqxLox381d6"
      },
      "source": [
        "## **Ejercicio 5 (2 puntos)** Método de Ensamble Personalizado\n",
        "\n",
        "En el ejercicio anterior hemos usado la librería sklearn para generar el ensemble de diferentes modelos. En este ejercicio proponemos crear tu propio modelo de ensamble utilizando una o más técnicas de regresión.\n",
        "\n",
        "Instrucciones:\n",
        "\n",
        "   - Implementa un regresor de ensamble personalizado (por ejemplo, promediando las predicciones de varios regresores).\n",
        "   - Compara su rendimiento con el modelo de Gradient Boosting y los modelos individuales del Ejercicio 3."
      ]
    },
    {
      "cell_type": "code",
      "source": [
        "# pon tu respuesta aquí\n",
        "\n",
        "\n",
        "import numpy as np\n",
        "from sklearn.base import BaseEstimator, RegressorMixin\n",
        "\n",
        "class CustomEnsembleRegressor(BaseEstimator, RegressorMixin):\n",
        "    def __init__(self, models):\n",
        "        self.models = models\n",
        "\n",
        "    def fit(self, X, y):\n",
        "        # implementa aquí la función fit\n",
        "\n",
        "    def predict(self, X):\n",
        "        # implementa aquí la función predict\n",
        "\n",
        "\n",
        "# Usa este código para llamar la clase implementada\n",
        "custom_ensemble = CustomEnsembleRegressor([LinearRegression(), DecisionTreeRegressor(), KNeighborsRegressor(n_neighbors=3)])\n",
        "ensemble_scores = cross_val_score(custom_ensemble, X_scaled, y, scoring='neg_mean_squared_error', cv=cv)\n",
        "\n",
        "print(f\"Custom Ensemble - Mean Squared Error: {ensemble_scores.mean()}\")"
      ],
      "metadata": {
        "id": "83f8hkJr8y6-"
      },
      "execution_count": null,
      "outputs": []
    },
    {
      "cell_type": "markdown",
      "source": [
        "### ## Pon tu respuesta entre aquí\n",
        "\n",
        "\n",
        "### ## y aquí"
      ],
      "metadata": {
        "id": "qsEItXwBB5O8"
      }
    },
    {
      "cell_type": "markdown",
      "metadata": {
        "id": "0B51XCje80wV"
      },
      "source": [
        "## **Ejercicio 6 (2 puntos)**\n",
        "\n",
        "Hasta este ejercicio hemos comparado los modelos únicamente con las medidas de error obtenidas. En este ejercicio deberas generar predicciones con cada uno de los modelos y comparar sus resultados.\n",
        "\n",
        "Instrucciones:\n",
        "\n",
        "  -  Generar predicciones: Usa los modelos entrenados en los ejercicios anteriores para predecir la variable objetivo en el conjunto de prueba (o en un conjunto de validación si está disponible).\n",
        "  -  Comparar resultados de los modelos: Imprime las primeras predicciones de cada modelo y compáralas con los valores reales.\n",
        "  -  Visualizar el rendimiento: Crea un gráfico que muestre los valores predichos frente a los valores reales para cada modelo y compara visualmente la precisión de sus predicciones."
      ]
    },
    {
      "cell_type": "markdown",
      "source": [
        "Analiza los resultados obtenidos"
      ],
      "metadata": {
        "id": "_idmGjrdB5O7"
      }
    },
    {
      "cell_type": "code",
      "source": [
        "# pon tu respuesta aquí\n"
      ],
      "metadata": {
        "id": "zBL0OHbM80wW"
      },
      "execution_count": null,
      "outputs": []
    },
    {
      "cell_type": "markdown",
      "source": [
        "### ## Pon tu respuesta entre aquí\n",
        "\n",
        "\n",
        "### ## y aquí"
      ],
      "metadata": {
        "id": "kCOPJJR8Cv9w"
      }
    },
    {
      "cell_type": "markdown",
      "metadata": {
        "id": "n058vAvQWres"
      },
      "source": [
        "## **Fuentes y recursos de interés**:\n",
        "- https://machinelearningmastery.com/standard-machine-learning-datasets/\n",
        "- https://machinelearningmastery.com/results-for-standard-classification-and-regression-machine-learning-datasets/"
      ]
    }
  ]
}