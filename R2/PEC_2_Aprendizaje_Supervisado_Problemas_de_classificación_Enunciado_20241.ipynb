{
  "cells": [
    {
      "cell_type": "markdown",
      "metadata": {
        "id": "CjhA7ENLbOx_"
      },
      "source": [
        "<div style=\"width: 100%; clear: both;\">\n",
        "<div style=\"float: left; width: 50%;\">\n",
        "<img src=\"http://www.uoc.edu/portal/_resources/common/imatges/marca_UOC/UOC_Masterbrand.jpg\", align=\"left\">\n",
        "</div>\n",
        "<div style=\"float: right; width: 50%;\">\n",
        "<p style=\"margin: 0; padding-top: 22px; text-align:right;\">22.418/22.518 · Aprenentatge automàtic</p>\n",
        "<p style=\"margin: 0; text-align:right;\">Grau en Ciència de Dades Aplicada</p>\n",
        "<p style=\"margin: 0; text-align:right; padding-button: 100px;\">Estudis de Informàtica, Multimèdia i Telecomunicació</p>\n",
        "</div>\n",
        "</div>\n",
        "<div style=\"width:100%;\">&nbsp;</div>"
      ]
    },
    {
      "cell_type": "markdown",
      "metadata": {
        "id": "WmmJnAr6MXPT"
      },
      "source": [
        "# **PEC 2. Aprendizaje supervisado: problemas de clasificación**\n",
        "\n",
        "## Introducción\n",
        "\n",
        "En este ejercicio práctico, aplicaremos las técnicas de clasificación supervisada estudiadas en teoría para resolver un problema práctico utilizando datos reales de un gimnasio. La idea es clasificar a los miembros en función de las calorías que queman durante sus sesiones de ejercicio, lo que podría ayudar a personalizar los planes de entrenamiento de manera más efectiva.\n",
        "\n",
        "Las competencias asociadas a este módulo son las siguientes:\n",
        "\n",
        "- Que los estudiantes tengan la capacidad de reunir e interpretar datos relevantes (normalmente dentro de su área de estudio) para emitir juicios que incluyan una reflexión sobre temas relevantes de índole social, científica o ética.\n",
        "- Identificar y generar nuevas ideas innovadoras que aporten valor económico y/o social.\n",
        "- Diseñar un marco experimental teniendo en cuenta los métodos más adecuados para la captura, el procesamiento, el almacenamiento, el análisis y la visualización de datos.\n",
        "- Utilizar de forma combinada los fundamentos matemáticos, estadísticos y de programación para desarrollar soluciones a problemas en el ámbito de la ciencia de los datos.\n",
        "\n",
        "Y los objetivos que perseguimos con este notebook de prácticas son:\n",
        "\n",
        "- Interpretar y analizar los resultados de algoritmos de aprendizaje supervisado para problemas de clasificación.\n",
        "- Proponer nuevos problemas donde un modelado de los datos usando algoritmos de aprendizaje supervisado puedan aportar valorar económico y/o social.\n",
        "- Conocer las metodologías y etapas básicas de un proyecto de minería de datos o, en general, de un proyecto de ciencia de datos.\n",
        "- Realizar un análisis de los resultados obtenidos con los principales métodos de aprendizaje automático en problemas de clasificación usando las métricas de evaluación comunes.\n",
        "- Conocer los principales métodos de aprendizaje automático en problemas supervisados de clasificación, y saber aplicar el tipo de algoritmo adecuado en cada situación, así como sus puntos fuertes y debilidades.\n"
      ]
    },
    {
      "cell_type": "markdown",
      "metadata": {
        "id": "p7IVE-IfZ4pK"
      },
      "source": [
        "# Descripción del dataset:\n",
        "\n",
        "El conjunto de datos utilizado para esta PEC se basa en **información de miembros de un gimnasio y sus actividades de ejercicio**. Se busca predecir el nivel de calorías quemadas por los miembros a partir de diferentes características demográficas, fisiológicas y de actividad física.\n",
        "\n",
        "Descarga: https://www.kaggle.com/datasets/valakhorasani/gym-members-exercise-dataset/data\n",
        "\n",
        "*   Variables:\n",
        "  *   Age: Edad del miembro.\n",
        "  *   Gender: Género del miembro.\n",
        "  *   Experience_Level: Nivel de experiencia en el gimnasio (Principiante, Intermedio, Avanzado).\n",
        "  *   Max_BPM, Avg_BPM, Resting_BPM: Ritmos cardíacos durante las sesiones de ejercicio.\n",
        "  *   BMI: Índice de Masa Corporal.\n",
        "  *   Fat_Percentage: Porcentaje de grasa corporal.\n",
        "  *   Session_Duration (hours): Duración de la sesión de entrenamiento.\n",
        "  *   Workout_Type: Tipo de entrenamiento realizado (Cardio, Fuerza, HIIT, etc.).\n",
        "  *   Calories_Burned: Calorías quemadas (variable continua).\n",
        "\n",
        "  *   **Variable objetivo:** Calories_Level (nueva variable categórica):\n",
        "      *   low: Menos de 700 calorías.\n",
        "      *   medium: Entre 700 y 1000 calorías.\n",
        "      *   high: Más de 1000 calorías.\n",
        "\n",
        "\n",
        "Puedes crear nuevas celdas para completar la resolución de los ejercicios.\n",
        "\n",
        "\n"
      ]
    },
    {
      "cell_type": "markdown",
      "metadata": {
        "id": "PFTmwfnOCr-1"
      },
      "source": [
        "## **Ejercicio 1 [ 1 punto ]** Análisis Exploratorio de Datos (EDA)\n",
        "\n",
        "Realiza un análisis exploratorio del conjunto de datos para comprender mejor su estructura y prepararlo para el modelado. Sigue los pasos indicados a continuación."
      ]
    },
    {
      "cell_type": "markdown",
      "metadata": {
        "id": "2Fb7KNQAaknT"
      },
      "source": [
        "### Paso 1: Carga de Datos\n",
        "Carga el conjunto de datos y muestra las primeras filas para familiarizarte con las variables.\n",
        "*   Importa pandas, numpy, matplotlib, y seaborn para el análisis y visualización de datos.\n",
        "*   Utiliza pandas.read_csv() para leer el archivo gym_members_exercise_tracking.\n",
        "csv.\n",
        "*   Muestra las primeras filas del dataset usando head() para tener una vista rápida de los datos."
      ]
    },
    {
      "cell_type": "code",
      "execution_count": null,
      "metadata": {
        "id": "77CVBOYhbOe_"
      },
      "outputs": [],
      "source": [
        "# Importa las librerías necesarias\n",
        "\n",
        "# Cargar el dataset\n",
        "df =\n",
        "\n",
        "# Mostrar las primeras 5 filas\n"
      ]
    },
    {
      "cell_type": "markdown",
      "metadata": {
        "id": "mbLBpxNKaKLO"
      },
      "source": [
        "### Paso 2: Entender la Estructura de los Datos\n",
        "*   Utiliza shape para conocer cuántas filas y columnas tiene el dataset.\n",
        "*   Usa info() para ver los tipos de datos de cada columna y la cantidad de valores no nulos.\n",
        "*   Utiliza describe() para obtener un resumen estadístico de las columnas numéricas (media, desviación estándar, mínimos, máximos, etc.).\n"
      ]
    },
    {
      "cell_type": "code",
      "execution_count": null,
      "metadata": {
        "id": "EAY5yICRbmXv"
      },
      "outputs": [],
      "source": [
        "# Verificar la forma del dataset\n",
        "\n",
        "\n",
        "# Ver información sobre las columnas\n",
        "\n",
        "\n",
        "# Resumen estadístico de las variables numéricas\n"
      ]
    },
    {
      "cell_type": "markdown",
      "metadata": {
        "id": "-Z_JYM9wa75d"
      },
      "source": [
        "### Paso 3: Identificación de Datos Faltantes y Duplicados\n",
        "*   Usa isnull().sum() para identificar si hay valores nulos en alguna columna y cuántos.\n",
        "  *   Tanto si encuentras columnas con valores nulos como si no, reflexiona sobre cómo manejarlos.\n",
        "*   Verifica si hay filas duplicadas con duplicated().sum() y, de ser necesario, elimina los duplicados utilizando drop_duplicates().\n"
      ]
    },
    {
      "cell_type": "code",
      "execution_count": null,
      "metadata": {
        "id": "rFPoTbdmbxV-"
      },
      "outputs": [],
      "source": [
        "# Verificar valores nulos\n",
        "\n",
        "\n",
        "# Verificar filas duplicadas\n"
      ]
    },
    {
      "cell_type": "markdown",
      "metadata": {
        "id": "cZPEsipPcN9d"
      },
      "source": [
        "### Paso 4: Análisis de Variables Categóricas\n",
        "*   Identifica las variables categóricas.\n",
        "*   Utiliza gráficos de barras con seaborn (countplot) para visualizar la distribución de estas variables.\n"
      ]
    },
    {
      "cell_type": "code",
      "execution_count": null,
      "metadata": {
        "id": "OgGuQ8AGcdjw"
      },
      "outputs": [],
      "source": [
        "\n"
      ]
    },
    {
      "cell_type": "markdown",
      "metadata": {
        "id": "JBYEv6Pzc0m-"
      },
      "source": [
        "Respuesta:"
      ]
    },
    {
      "cell_type": "markdown",
      "metadata": {
        "id": "QxAiaGFNclHO"
      },
      "source": [
        "### Paso 5: Análisis de Variables Numéricas\n",
        "*   Identifica las variables numéricas.\n",
        "*   Usa gráficos de dispersión (scatterplot) y boxplots para analizar la distribución de estas variables y detectar posibles outliers.\n"
      ]
    },
    {
      "cell_type": "code",
      "execution_count": null,
      "metadata": {
        "id": "YQgiXoGQcpA-"
      },
      "outputs": [],
      "source": [
        "\n"
      ]
    },
    {
      "cell_type": "markdown",
      "metadata": {
        "id": "kJ7mQWE9c9jW"
      },
      "source": [
        "Respuesta:"
      ]
    },
    {
      "cell_type": "markdown",
      "metadata": {
        "id": "oHJpuuCqdkXR"
      },
      "source": [
        "### Paso 6: Creación de la Variable Calories_Level\n",
        "\n",
        "La columna Calories_Burned tiene valores numéricos continuos, que representan la cantidad exacta de calorías quemadas por cada miembro en sus sesiones de ejercicio.\n",
        "\n",
        "Si quisiéramos predecir un valor exacto de calorías quemadas (por ejemplo, 750.5 calorías), estaríamos ante un problema de regresión.\n",
        "\n",
        "Dado que queremos que el ejercicio sea de clasificación, lo tranformaremos:\n",
        "\n",
        "Esta variable Calories_Level categoriza el rango de calorías quemadas en tres grupos:\n",
        "*   low: Para aquellos que queman menos de 700 calorías.\n",
        "*   medium: Para aquellos que queman entre 700 y 1000 calorías.\n",
        "*   high: Para aquellos que queman más de 1000 calorías.\n",
        "\n",
        "Pasos:\n",
        "\n",
        "*   Divide la columna Calories_Burned en tres categorías: low, medium, y high usando pd.cut().\n",
        "*   Muestra la cantidad de registros en cada categoría usando value_counts().\n",
        "*   Crea un gráfico de barras (barplot) para visualizar cuántos miembros caen en cada categoría (low, medium, high).\n",
        "*   Comenta sobre la distribución de los niveles de calorías quemadas y lo que podría significar para la personalización de los entrenamientos.\n"
      ]
    },
    {
      "cell_type": "code",
      "execution_count": null,
      "metadata": {
        "id": "DHMnnqhWdwUf"
      },
      "outputs": [],
      "source": [
        "# Creación de la variable categórica 'Calories_Level'\n",
        "\n",
        "# Ver la cantidad de registros en cada categoría\n"
      ]
    },
    {
      "cell_type": "code",
      "execution_count": null,
      "metadata": {
        "id": "04VyQXw2d11N"
      },
      "outputs": [],
      "source": [
        "# Gráfico de barras para 'Calories_Level'\n"
      ]
    },
    {
      "cell_type": "markdown",
      "metadata": {
        "id": "fzL7jNkhEfgw"
      },
      "source": [
        "## **Ejercicio 2 [ 0.5 puntos ]** Describe el dataset\n",
        "\n",
        "Para ello utiliza el análisis que has realizado en el ejercicio anterior. Identifica las variables explicativas de la variable a predecir"
      ]
    },
    {
      "cell_type": "markdown",
      "metadata": {
        "id": "HpWt1eTk5_VN"
      },
      "source": [
        "*pon tu respuesta entre aquí*\n",
        "A continuación se presenta una descripción del dataset basado en el análisis realizado en los pasos anteriores:\n",
        "\n",
        "1. **Descripción general del dataset**:\n",
        "   - Este dataset contiene información sobre sesiones de ejercicio de los miembros de un gimnasio, incluyendo datos demográficos, fisiológicos y de actividad física.\n",
        "   - La variable objetivo creada, **`Calories_Level`**, clasifica a los miembros en tres niveles de calorías quemadas: **low** (menos de 700 calorías), **medium** (entre 700 y 1000 calorías), y **high** (más de 1000 calorías).\n",
        "   - La mayoría de los miembros caen en la categoría \"medium\", seguida de \"high\", y en menor proporción en \"low\".\n",
        "\n",
        "2. **Variables explicativas y su relación con `Calories_Level`**:\n",
        "   - **Age (Edad)**: No se observó una correlación directa con las calorías quemadas. Puede influir en el tipo de entrenamiento y en la intensidad recomendada, pero no es determinante para `Calories_Level`.\n",
        "   - **Gender (Género)**: No se ha explorado a fondo, pero podría tener algún impacto en la capacidad de quema de calorías debido a diferencias fisiológicas.\n",
        "   - **Weight (kg) y BMI**: Aunque muestran cierta dispersión, el peso y el índice de masa corporal (BMI) tienen una relación moderada con el nivel de calorías quemadas. Los miembros con mayor peso tienden a quemar más calorías debido al esfuerzo adicional.\n",
        "   - **Max_BPM, Avg_BPM, Resting_BPM**: Estas variables de ritmo cardíaco no mostraron una correlación clara con `Calories_Level`. Sin embargo, los ritmos más altos podrían indicar sesiones de mayor intensidad, lo cual indirectamente podría estar asociado a una quema calórica elevada.\n",
        "   - **Session Duration (Duración de la sesión)**: Es una de las variables más relevantes, mostrando una correlación positiva clara con `Calories_Burned`. Sesiones más largas suelen resultar en un mayor gasto calórico.\n",
        "   - **Fat_Percentage (Porcentaje de grasa)**: Muestra una relación inversa con las calorías quemadas, ya que los miembros con menor porcentaje de grasa tienden a quemar más calorías, posiblemente debido a una mayor capacidad cardiovascular o metabólica.\n",
        "   - **Water_Intake (litros de agua)**: No se observó relación directa con `Calories_Level`, aunque una mayor ingesta podría ser un indicador de ejercicios de mayor duración o intensidad.\n",
        "   - **Workout_Frequency (Frecuencia de entrenamiento)**: La frecuencia de entrenamiento no mostró una relación clara con las calorías quemadas en cada sesión, pero puede influir en el nivel de condición física de los miembros.\n",
        "   - **Experience_Level (Nivel de experiencia)**: No mostró una correlación directa con `Calories_Burned`, aunque niveles de experiencia más altos pueden estar asociados con sesiones más intensas o especializadas.\n",
        "\n",
        "3. **Conclusiones sobre las variables explicativas**:\n",
        "   - Las variables **`Session Duration`** y **`Fat Percentage`** parecen ser las más significativas para predecir `Calories_Level`, ya que tienen una relación más directa con la quema de calorías.\n",
        "   - **Weight (kg)** y **BMI** también son variables importantes, aunque de forma más moderada.\n",
        "   - Variables como **Max_BPM** y **Avg_BPM** pueden servir de apoyo para entender la intensidad de las sesiones, pero no son tan determinantes por sí solas.\n",
        "   - Las demás variables aportan contexto y pueden enriquecer el modelo, pero no son esenciales para la predicción directa del nivel de calorías quemadas.\n",
        "\n",
        "Este análisis permite seleccionar variables relevantes para modelos de clasificación y orienta a la personalización de los entrenamientos según el nivel de quema calórica de los miembros."
      ]
    },
    {
      "cell_type": "markdown",
      "metadata": {
        "id": "yarNwlNUFPpz"
      },
      "source": [
        "## **Ejercicio 3 [ 2.5 puntos ]** Preprocessamiento de los datos\n",
        "\n",
        "Usa [sklearn preprocessing](https://scikit-learn.org/stable/modules/classes.html#module-sklearn.preprocessing) i/o pandas para hacer el procesamient de los datos del dataset:\n"
      ]
    },
    {
      "cell_type": "markdown",
      "metadata": {
        "id": "RiaYi6WOJT7q"
      },
      "source": [
        "**3 a) [0,5 puntos]** divide entre los datos explicativos (X) y a predecir (y):\n",
        "\n",
        "Divide el conjunto de datos en las variables explicativas (X) y la variable objetivo (y). La variable objetivo es Calories_Level, que indica si un miembro quema low, medium, o high calorías."
      ]
    },
    {
      "cell_type": "code",
      "execution_count": null,
      "metadata": {
        "id": "aTgA0HxuJUED"
      },
      "outputs": [],
      "source": [
        "# pon tu código entre aquí\n",
        "# Dividimos en inputs y outputs\n",
        "\n",
        "\n",
        "# y aquí\n",
        "\n",
        "# Mostrar las primeras filas de X\n"
      ]
    },
    {
      "cell_type": "code",
      "execution_count": null,
      "metadata": {
        "id": "-jVQQwGwIHEw"
      },
      "outputs": [],
      "source": [
        "X.head()"
      ]
    },
    {
      "cell_type": "markdown",
      "metadata": {
        "id": "lS4mry-nIrL5"
      },
      "source": [
        "**3 b) [1 punto]:** Transformación de datos:\n",
        "*   Transforma las variables explicativas de categóricas a numéricas. Realiza una codificación OneHot de las variables categóricas Workout_Type y Gender para convertirlas en variables numéricas.\n",
        "*   Transforma la variable y (Calories_Level) a valores numéricos utilizando LabelEncoder."
      ]
    },
    {
      "cell_type": "code",
      "execution_count": null,
      "metadata": {
        "id": "wifsHdO1IqHh"
      },
      "outputs": [],
      "source": [
        "# pon tu código entre aquí\n",
        "# Realizar la codificación OneHot de las variables categóricas\n",
        "\n",
        "\n",
        "# Definir la transformación OneHot para las variables categóricas\n",
        "\n",
        "\n",
        "# Transformar el conjunto de datos\n",
        "\n",
        "\n",
        "# y aquí\n",
        "\n",
        "# Mostrar la forma del conjunto de características transformadas\n"
      ]
    },
    {
      "cell_type": "code",
      "execution_count": null,
      "metadata": {
        "id": "EFEN26OjhL8i"
      },
      "outputs": [],
      "source": [
        "# pon tu código entre aquí\n",
        "# Importar LabelEncoder de sklearn\n",
        "\n",
        "\n",
        "# Transformar y utilizando LabelEncoder\n",
        "\n",
        "\n",
        "# y aquí\n",
        "\n",
        "# Mostrar los primeros valores de y_encoded\n"
      ]
    },
    {
      "cell_type": "markdown",
      "metadata": {
        "id": "a3IlQCeRF-qT"
      },
      "source": [
        "**3 c)  [ 0,5 puntos ]** Normalización de las variables numéricas"
      ]
    },
    {
      "cell_type": "markdown",
      "metadata": {
        "id": "or16nEDFhdNs"
      },
      "source": [
        "Escala las variables numéricas usando StandardScaler para que todas las características numéricas tengan una media de 0 y una desviación estándar de 1."
      ]
    },
    {
      "cell_type": "code",
      "execution_count": null,
      "metadata": {
        "id": "jacIbN22hg8b"
      },
      "outputs": [],
      "source": [
        "# Escalar las variables numéricas\n",
        "\n",
        "# Mostrar la forma del conjunto de características transformadas y un ejemplo de las características escaladas\n"
      ]
    },
    {
      "cell_type": "markdown",
      "metadata": {
        "id": "sQ_EWS92ijYo"
      },
      "source": [
        "**3 d) [1 punto]:**  División del Conjunto de Datos en Entrenamiento y Prueba:\n",
        "*   Divide el conjunto de datos en un conjunto de entrenamiento (80%) y uno de prueba (20%) usando train_test_split con una semilla de 42. Utiliza X_transformed y y."
      ]
    },
    {
      "cell_type": "code",
      "execution_count": null,
      "metadata": {
        "id": "fKIXdwFSioOZ"
      },
      "outputs": [],
      "source": [
        "# Importar train_test_split de sklearn\n",
        "\n",
        "\n",
        "\n",
        "# Dividir los datos en entrenamiento y prueba\n",
        "X_train, X_test, y_train, y_test =\n",
        "\n",
        "\n",
        "# Mostrar las formas de los conjuntos de entrenamiento y prueba\n",
        "\n"
      ]
    },
    {
      "cell_type": "markdown",
      "metadata": {
        "id": "nBXGtSIcLov1"
      },
      "source": [
        "## **Ejercicio 4 [ 1 punto ]** Entrenamiento de un modelo de Clasificación basado en [DecisionTree](https://scikit-learn.org/stable/modules/generated/sklearn.tree.DecisionTreeClassifier.html#sklearn.tree.DecisionTreeClassifier).\n",
        "\n",
        "Una vez generado el modelo, ya podemos entrenarlo y generar las matrices de confusión y las principales estadísticas:\n",
        "  - Utiliza los datos preprocesados para entrenar el modelo\n",
        "  - Haz las predicciones con los datos apropiados\n",
        "  - Evalúa el modelo generando la matriz de confusión y haciendo un [classification report](https://scikit-learn.org/stable/modules/generated/sklearn.metrics.classification_report.html)"
      ]
    },
    {
      "cell_type": "code",
      "execution_count": null,
      "metadata": {
        "id": "lplgRQcULov2"
      },
      "outputs": [],
      "source": [
        "# pon tu código entre aquí\n",
        "\n",
        "seed = 5\n",
        "\n",
        "from sklearn.tree import DecisionTreeClassifier\n",
        "from sklearn import metrics\n",
        "\n",
        "model =\n",
        "\n",
        "model.fit(X_train, y_train)\n",
        "\n",
        "\n",
        "y_pred ="
      ]
    },
    {
      "cell_type": "code",
      "execution_count": null,
      "metadata": {
        "id": "vCfLvV92M0X3"
      },
      "outputs": [],
      "source": [
        "from sklearn.metrics import classification_report\n"
      ]
    },
    {
      "cell_type": "markdown",
      "metadata": {
        "id": "NCYFn5m4TDgk"
      },
      "source": [
        "## **Ejercicio 5 [ 1 punto ]** Análisis de los resultados obtenidos.\n",
        "\n",
        "Analiza la matriz de confusión obtenida y la clasificación report del ejercicio anterior. Para ello, compáralo con los resultados obtenidos con el modelo de prueba que se ofrece a continuación.\n",
        "\n",
        "¿Qué métricas son las adecuadas para analizar los resultados obtenidos en el dataset propuesto?"
      ]
    },
    {
      "cell_type": "code",
      "execution_count": null,
      "metadata": {
        "id": "UsrSvVF3M6NH"
      },
      "outputs": [],
      "source": [
        "y_pred_toy_model = [0] * len(y_test)"
      ]
    },
    {
      "cell_type": "code",
      "execution_count": null,
      "metadata": {
        "colab": {
          "base_uri": "https://localhost:8080/",
          "height": 466
        },
        "id": "m-3TofMZOiHe",
        "outputId": "545b8236-a178-4f13-cca9-10c6f024d653"
      },
      "outputs": [
        {
          "data": {
            "text/plain": [
              "<sklearn.metrics._plot.confusion_matrix.ConfusionMatrixDisplay at 0x7a4ae2417a60>"
            ]
          },
          "execution_count": 24,
          "metadata": {},
          "output_type": "execute_result"
        },
        {
          "data": {
            "image/png": "[encoded data removed]",
            "text/plain": [
              "<Figure size 640x480 with 2 Axes>"
            ]
          },
          "metadata": {},
          "output_type": "display_data"
        }
      ],
      "source": [
        "cm = metrics.ConfusionMatrixDisplay(confusion_matrix=metrics.confusion_matrix(y_test, y_pred_toy_model, labels=model.classes_), display_labels=model.classes_)\n",
        "cm.plot(cmap=\"magma\")"
      ]
    },
    {
      "cell_type": "code",
      "execution_count": null,
      "metadata": {
        "id": "dWMCgw_qNEnW"
      },
      "outputs": [],
      "source": [
        "from sklearn.metrics import classification_report\n",
        "\n",
        "print(classification_report(y_test, y_pred_toy_model))"
      ]
    },
    {
      "cell_type": "markdown",
      "metadata": {
        "id": "non3U6a3b2s2"
      },
      "source": [
        "*pon tu respuesta entre aquí*\n"
      ]
    },
    {
      "cell_type": "markdown",
      "metadata": {
        "id": "CG3IuBY4Ttt_"
      },
      "source": [
        "## **Ejercicio 6 [ 1 punto ]** Mejora del método\n",
        "\n",
        "Prueba parametros del modelo de classificación basado en Decision trees hasta mejorar los resultados"
      ]
    },
    {
      "cell_type": "code",
      "execution_count": null,
      "metadata": {
        "id": "HB4eiPFfTtHL"
      },
      "outputs": [],
      "source": [
        "# pon tu código entre aquí\n",
        "from sklearn.model_selection import GridSearchCV\n",
        "\n",
        "parameters = {'criterion': (\"gini\", \"entropy\", \"log_loss\"), 'max_depth': (3, 10, 20, 50)}\n"
      ]
    },
    {
      "cell_type": "markdown",
      "metadata": {
        "id": "uwJfVei1UMij"
      },
      "source": [
        "## **Ejercicio 7 [ 1,5 puntos ]** Comparación con otros métodos\n",
        "\n",
        "Prueba varios métodos (como mínimo dos):\n",
        "  * Naive Bayes\n",
        "  * Regresión logística\n",
        "  * kNN\n",
        "  * Clasificador lineal (basado en distancias, en producto escalar o en kernels)\n",
        "  * Support Vector Machine (SVM)\n",
        "  * Redes neuronales\n",
        "\n",
        "Y compara los resultados obtenidos con el Decision tree"
      ]
    },
    {
      "cell_type": "markdown",
      "metadata": {
        "id": "GCaudcTBfEEb"
      },
      "source": [
        "*analiza los resultados obtenidos entre aquí*\n",
        "\n"
      ]
    },
    {
      "cell_type": "markdown",
      "metadata": {
        "id": "zRod8-k_TEpF"
      },
      "source": [
        "## **Ejercicio 8 [ 1,5 puntos ]** Análisis de los sesgos\n",
        "\n",
        "Analiza los posibles sesgos que pueda tener la base de datos con la que hemos trabajado en esta PEC.\n",
        "Analiza si factores como los siguientes tienen un efecto en los resultados obtenidos:\n",
        "  - Que haya mayor representatividad de hombres que mujeres en la base de datos:\n",
        "  - Que haya una mayor representatividad de ciertos tipos de entrenamiento (Workout_Type)\n",
        "  - Que haya un sesgo a nivel de experiencia de los usuarios (Experience_Level)\n",
        "\n",
        "Para ello, analiza cómo se comportan los modelos obtenidos en los diversos casos y razona la respuesta."
      ]
    },
    {
      "cell_type": "code",
      "execution_count": null,
      "metadata": {
        "id": "1Sg_2efhTv2w"
      },
      "outputs": [],
      "source": [
        "# pon tu código entre aquí\n"
      ]
    },
    {
      "cell_type": "markdown",
      "metadata": {
        "id": "n058vAvQWres"
      },
      "source": [
        "## **Fuentes y recursos de interés:**\n",
        "- https://scikit-learn.org/stable/supervised_learning.html#supervised-learning\n",
        "- https://machinelearningmastery.com/standard-machine-learning-datasets/\n",
        "- https://machinelearningmastery.com/results-for-standard-classification-and-regression-machine-learning-datasets/"
      ]
    },
    {
      "cell_type": "code",
      "execution_count": null,
      "metadata": {
        "id": "_UrklfHEJ_Sb"
      },
      "outputs": [],
      "source": []
    }
  ],
  "metadata": {
    "colab": {
      "provenance": []
    },
    "kernelspec": {
      "display_name": "Python 3.9.0 64-bit",
      "language": "python",
      "name": "python3"
    },
    "language_info": {
      "codemirror_mode": {
        "name": "ipython",
        "version": 3
      },
      "file_extension": ".py",
      "mimetype": "text/x-python",
      "name": "python",
      "nbconvert_exporter": "python",
      "pygments_lexer": "ipython3",
      "version": "3.9.0"
    },
    "vscode": {
      "interpreter": {
        "hash": "aee8b7b246df8f9039afb4144a1f6fd8d2ca17a180786b69acc140d282b71a49"
      }
    }
  },
  "nbformat": 4,
  "nbformat_minor": 0
}
